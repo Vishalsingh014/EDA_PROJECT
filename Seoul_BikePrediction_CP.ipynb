{
  "nbformat": 4,
  "nbformat_minor": 0,
  "metadata": {
    "colab": {
      "private_outputs": true,
      "provenance": [],
      "collapsed_sections": [
        "tEA2Xm5dHt1r",
        "I79__PHVH19G",
        "Ou-I18pAyIpj",
        "fF3858GYyt-u",
        "hwyV_J3ipUZe",
        "3yB-zSqbpUZe",
        "dEUvejAfpUZe",
        "Fd15vwWVpUZf",
        "bn_IUdTipZyH",
        "49K5P_iCpZyH",
        "Nff-vKELpZyI",
        "kLW572S8pZyI",
        "dWbDXHzopZyI",
        "gIfDvo9L0UH2"
      ],
      "include_colab_link": true
    },
    "kernelspec": {
      "name": "python3",
      "display_name": "Python 3"
    },
    "language_info": {
      "name": "python"
    }
  },
  "cells": [
    {
      "cell_type": "markdown",
      "metadata": {
        "id": "view-in-github",
        "colab_type": "text"
      },
      "source": [
        "<a href=\"https://colab.research.google.com/github/Vishalsingh014/EDA_PROJECT/blob/main/Seoul_BikePrediction_CP.ipynb\" target=\"_parent\"><img src=\"https://colab.research.google.com/assets/colab-badge.svg\" alt=\"Open In Colab\"/></a>"
      ]
    },
    {
      "cell_type": "markdown",
      "source": [
        "# **Project Name**    - Bke Sharing Prediction\n",
        "\n",
        "\n"
      ],
      "metadata": {
        "id": "vncDsAP0Gaoa"
      }
    },
    {
      "cell_type": "markdown",
      "source": [
        "##### **Project Type**    - Regression\n",
        "##### **Contribution**    - Individual\n",
        "##### **Name-    Vishal Kumar Singh**\n",
        "\n"
      ],
      "metadata": {
        "id": "beRrZCGUAJYm"
      }
    },
    {
      "cell_type": "markdown",
      "source": [
        "# **Project Summary -**"
      ],
      "metadata": {
        "id": "FJNUwmbgGyua"
      }
    },
    {
      "cell_type": "markdown",
      "source": [
        "### <style>\n",
        ".box {\n",
        "  text-align: center;\n",
        "  background-color: #FFECEC;\n",
        "  color: white;\n",
        "  padding: 20px;\n",
        "  font-size: 28px;\n",
        "  font-weight: bold;\n",
        "  border-radius: 20px;\n",
        "  max-width: 350px;\n",
        "  margin: 0 auto;\n",
        "}\n",
        "</style>\n",
        "<div align=\"center\">\n",
        "  <img src=\"https://miro.medium.com/v2/resize:fit:1400/format:webp/1*CHzEvgqNdAr0wCDKV9Hr5w.jpeg\"\n",
        "     alt=\"Image Description\"\n",
        "     width=\"700\"\n",
        "     srcset=\"\n",
        "https://miro.medium.com/v2/resize:fit:640/format:webp/1*CHzEvgqNdAr0wCDKV9Hr5w.jpeg 640w,\n",
        "         https://miro.medium.com/v2/resize:fit:720/format:webp/1*CHzEvgqNdAr0wCDKV9Hr5w.jpeg 720w,\n",
        "         https://miro.medium.com/v2/resize:fit:750/format:webp/1*CHzEvgqNdAr0wCDKV9Hr5w.jpeg 750w,\n",
        "https://miro.medium.com/v2/resize:fit:786/format:webp/1*CHzEvgqNdAr0wCDKV9Hr5w.jpeg 786w,\n",
        "         https://miro.medium.com/v2/resize:fit:828/format:webp/1*CHzEvgqNdAr0wCDKV9Hr5w.jpeg 828w,\n",
        "         https://miro.medium.com/v2/resize:fit:1100/format:webp/1*CHzEvgqNdAr0wCDKV9Hr5w.jpeg 1100w,\n",
        "         https://miro.medium.com/v2/resize:fit:1400/format:webp/1*CHzEvgqNdAr0wCDKV9Hr5w.jpeg 1400w\"\n",
        "         sizes=\"(min-resolution: 4dppx) and (max-width: 700px) 50vw,\n",
        "            (-webkit-min-device-pixel-ratio: 4) and (max-width: 700px) 50vw,\n",
        "            (min-resolution: 3dppx) and (max-width: 700px) 67vw,\n",
        "            (-webkit-min-device-pixel-ratio: 3) and (max-width: 700px) 65vw,\n",
        "            (min-resolution: 2.5dppx) and (max-width: 700px) 80vw,\n",
        "            (-webkit-min-device-pixel-ratio: 2.5) and (max-width: 700px) 80vw,\n",
        "            (min-resolution: 2dppx) and (max-width: 700px) 100vw,\n",
        "700px\">\n",
        "<br><br>\n",
        "  <div class=\"box\" style=\"background-color: #0b0b0b;\">\n",
        "    <h1>Project - Regression-Bike Sharing Demand Prediction</h1>\n",
        "     <br>\n",
        "  <h3 style=\"text-align: center;\">GitHub Links:</h3>\n",
        "  <p style=\"text-align: center;\"><a href=\"https://github.com/Pranita-karmakar\" target=\"_blank\">https://github.com/Pranita-karmakar</a></p>\n",
        "  <p style=\"text-align: center;\"><a href=\"https://github.com/RohanxDutta\" target=\"_blank\">https://github.com/RohanxDutta</a></p>\n",
        "  </div>"
      ],
      "metadata": {
        "id": "yQaldy8SH6Dl"
      }
    },
    {
      "cell_type": "markdown",
      "source": [
        "# **Problem Objective**"
      ],
      "metadata": {
        "id": "5l5Tt66qm6ug"
      }
    },
    {
      "cell_type": "markdown",
      "source": [
        "The introduction of rental bikes in urban cities has significantly enhanced mobility and comfort for residents and visitors alike. The availability and accessibility of these rental bikes are critical factors in reducing waiting times and providing a stable supply of bikes to meet the growing demand. To address this concern effectively, various strategies and technologies can be employed.\n",
        "\n",
        "Demand forecasting plays a pivotal role in predicting the need for rental bikes at different times and locations. Historical rental data and external factors like weather and events are used to forecast demand accurately. Time series forecasting techniques help in predicting future demand patterns.\n",
        "\n",
        "Optimal bike placement is another vital aspect of ensuring a stable supply of rental bikes. By employing optimization algorithms, the optimal locations for bike stations can be determined based on predicted demand. This ensures that bikes are available precisely where and when they are needed most.\n",
        "\n",
        "Inventory management strategies help in redistributing bikes between stations dynamically. If one station consistently runs low on bikes, the system automatically transfers bikes from stations with surpluses to meet the demand. Real-time monitoring, through IoT sensors, allows for the continuous assessment of bike availability and station status.\n",
        "\n",
        "Dynamic pricing strategies incentivize users to return bikes to stations with high demand during peak hours, helping to balance the bike distribution. User-friendly mobile apps provide real-time information on bike availability and station locations, enhancing user experience.\n",
        "\n",
        "Machine learning algorithms can improve demand prediction accuracy, and a feedback loop ensures continuous system optimization based on user behavior and performance data. Regular maintenance and quality assurance processes are crucial to keep bikes and stations in good working condition.\n",
        "\n",
        "As the bike-sharing system expands, scaling the infrastructure and expanding into new areas may be necessary to meet the increasing demand. Monitoring the environmental impact of the system, including reduced traffic congestion and lower carbon emissions, contributes to sustainability efforts."
      ],
      "metadata": {
        "id": "tsM2ukOei18w"
      }
    },
    {
      "cell_type": "markdown",
      "source": [
        "# **Problem Statement**\n",
        "\n",
        "\n",
        "\n"
      ],
      "metadata": {
        "id": "7oUNtm5_ionf"
      }
    },
    {
      "cell_type": "markdown",
      "source": [
        "**Develop a predictive model to estimate hourly bike demand, optimizing the supply of rental bikes in urban areas, reducing waiting times, and enhancing user satisfaction.**"
      ],
      "metadata": {
        "id": "DpeJGUA3kjGy"
      }
    },
    {
      "cell_type": "markdown",
      "source": [
        "# ***Let's Begin !***"
      ],
      "metadata": {
        "id": "O_i_v8NEhb9l"
      }
    },
    {
      "cell_type": "markdown",
      "source": [
        "## ***1. Know Your Data***"
      ],
      "metadata": {
        "id": "HhfV-JJviCcP"
      }
    },
    {
      "cell_type": "markdown",
      "source": [
        "### Import Libraries"
      ],
      "metadata": {
        "id": "Y3lxredqlCYt"
      }
    },
    {
      "cell_type": "code",
      "source": [
        "# Import Libraries\n",
        "import numpy as np\n",
        "import pandas as pd\n",
        "import matplotlib.pyplot as plt\n",
        "import seaborn as sns\n",
        "import chardet\n",
        "from statsmodels.stats.outliers_influence import variance_inflation_factor\n",
        "from sklearn.model_selection import train_test_split\n",
        "from sklearn.preprocessing import StandardScaler\n"
      ],
      "metadata": {
        "id": "M8Vqi-pPk-HR"
      },
      "execution_count": null,
      "outputs": []
    },
    {
      "cell_type": "markdown",
      "source": [
        "### Dataset Loading"
      ],
      "metadata": {
        "id": "3RnN4peoiCZX"
      }
    },
    {
      "cell_type": "code",
      "source": [
        "# Load Dataset\n",
        "with open(\"/content/SeoulBikeData.csv\", 'rb') as f:\n",
        "    result = chardet.detect(f.read())\n",
        "encoding = result['encoding']\n",
        "data = pd.read_csv(\"/content/SeoulBikeData.csv\", encoding=encoding)\n"
      ],
      "metadata": {
        "id": "4CkvbW_SlZ_R"
      },
      "execution_count": null,
      "outputs": []
    },
    {
      "cell_type": "markdown",
      "source": [
        "### Dataset First View"
      ],
      "metadata": {
        "id": "x71ZqKXriCWQ"
      }
    },
    {
      "cell_type": "code",
      "source": [
        "# Dataset First Look\n",
        "data.head().style.background_gradient(cmap= \"cool\")"
      ],
      "metadata": {
        "id": "LWNFOSvLl09H"
      },
      "execution_count": null,
      "outputs": []
    },
    {
      "cell_type": "markdown",
      "source": [
        "### Dataset Rows & Columns count"
      ],
      "metadata": {
        "id": "7hBIi_osiCS2"
      }
    },
    {
      "cell_type": "code",
      "source": [
        "# Dataset Rows & Columns count\n",
        "data.count()"
      ],
      "metadata": {
        "id": "Kllu7SJgmLij"
      },
      "execution_count": null,
      "outputs": []
    },
    {
      "cell_type": "markdown",
      "source": [
        "### Dataset Information"
      ],
      "metadata": {
        "id": "JlHwYmJAmNHm"
      }
    },
    {
      "cell_type": "code",
      "source": [
        "# Dataset Info\n",
        "data.info()"
      ],
      "metadata": {
        "id": "e9hRXRi6meOf"
      },
      "execution_count": null,
      "outputs": []
    },
    {
      "cell_type": "markdown",
      "source": [
        "#### Duplicate Values"
      ],
      "metadata": {
        "id": "35m5QtbWiB9F"
      }
    },
    {
      "cell_type": "code",
      "source": [
        "# Dataset Duplicate Value Count\n",
        "data.duplicated().sum()"
      ],
      "metadata": {
        "id": "1sLdpKYkmox0"
      },
      "execution_count": null,
      "outputs": []
    },
    {
      "cell_type": "markdown",
      "source": [
        "#### Missing Values/Null Values"
      ],
      "metadata": {
        "id": "PoPl-ycgm1ru"
      }
    },
    {
      "cell_type": "code",
      "source": [
        "# Missing Values/Null Values Count\n",
        "data.isna().sum()"
      ],
      "metadata": {
        "id": "GgHWkxvamxVg"
      },
      "execution_count": null,
      "outputs": []
    },
    {
      "cell_type": "code",
      "source": [
        "# Visualizing the missing values\n",
        "columns = [\"Date\", \"Rented Bike Count\", \"Hour\", \"Temperature(°C)\", \"Humidity(%)\",\n",
        "           \"Wind speed (m/s)\", \"Visibility (10m)\", \"Dew point temperature(°C)\",\n",
        "           \"Solar Radiation (MJ/m2)\", \"Rainfall(mm)\", \"Snowfall (cm)\", \"Seasons\",\n",
        "           \"Holiday\", \"Functioning Day\"]\n",
        "missing_values = [0] * len(columns)\n",
        "plt.figure(figsize=(10, 6))\n",
        "plt.bar(columns, missing_values, color='green')\n",
        "plt.xlabel('Columns')\n",
        "plt.ylabel('Missing Values')\n",
        "plt.title('Missing Values Visualization (All Zero)')\n",
        "plt.xticks(rotation=90)\n",
        "plt.show() #Since there are no missing values (all zeros),hence the bar chart with bars all at the zero level, indicating that there are no missing values in any of the columns."
      ],
      "metadata": {
        "id": "3q5wnI3om9sJ"
      },
      "execution_count": null,
      "outputs": []
    },
    {
      "cell_type": "markdown",
      "source": [
        "### What did you know about your dataset?"
      ],
      "metadata": {
        "id": "H0kj-8xxnORC"
      }
    },
    {
      "cell_type": "markdown",
      "source": [
        "Since there are no missing values (all zeros),hence the bar chart with bars all at the zero level, indicating that there are no missing values in any of the columns. Also there are no duplicates in the seoul dataset."
      ],
      "metadata": {
        "id": "gfoNAAC-nUe_"
      }
    },
    {
      "cell_type": "markdown",
      "source": [
        "## ***2. Understanding Your Variables***"
      ],
      "metadata": {
        "id": "nA9Y7ga8ng1Z"
      }
    },
    {
      "cell_type": "code",
      "source": [
        "# Dataset Columns\n",
        "data.columns"
      ],
      "metadata": {
        "id": "j7xfkqrt5Ag5"
      },
      "execution_count": null,
      "outputs": []
    },
    {
      "cell_type": "code",
      "source": [
        "# Dataset Describe\n",
        "data.describe(include= \"all\").T"
      ],
      "metadata": {
        "id": "DnOaZdaE5Q5t"
      },
      "execution_count": null,
      "outputs": []
    },
    {
      "cell_type": "markdown",
      "source": [
        "### Variables Description"
      ],
      "metadata": {
        "id": "PBTbrJXOngz2"
      }
    },
    {
      "cell_type": "markdown",
      "source": [
        "Date: There are 8,760 entries with 365 unique dates. The most common date is \"01/12/2017\" with a frequency of 24 occurrences.\n",
        "\n",
        "Rented Bike Count: This column contains numerical data. The mean value is approximately 704.60, and the standard deviation is approximately 644.99. The minimum value is 0.0, and the maximum value is 3556.0.\n",
        "\n",
        "Hour: This column contains numerical data representing the hour of the day. The mean value is 11.5, and the standard deviation is approximately 6.92. The minimum value is 0.0, and the maximum value is 23.0.\n",
        "\n",
        "Temperature(°C): This column contains numerical data representing temperature in degrees Celsius. The mean temperature is approximately 12.88°C, with a standard deviation of approximately 11.94°C. The minimum temperature is -17.8°C, and the maximum temperature is 39.4°C.\n",
        "\n",
        "Humidity(%): This column contains numerical data representing humidity levels in percentage. The mean humidity is approximately 58.23%, with a standard deviation of approximately 20.36%. The minimum humidity is 0.0%, and the maximum humidity is 98.0%.\n",
        "\n",
        "Wind speed (m/s): This column contains numerical data representing wind speed in meters per second. The mean wind speed is approximately 1.72 m/s, with a standard deviation of approximately 1.04 m/s. The minimum wind speed is 0.0 m/s, and the maximum wind speed is 7.4 m/s.\n",
        "\n",
        "Visibility (10m): This column contains numerical data representing visibility in meters. The mean visibility is approximately 1436.83 meters, with a standard deviation of approximately 608.30 meters. The minimum visibility is 27.0 meters, and the maximum visibility is 2000.0 meters.\n",
        "\n",
        "Dew point temperature(°C): This column contains numerical data representing dew point temperature in degrees Celsius. The mean dew point temperature is approximately 4.07°C, with a standard deviation of approximately 13.06°C. The minimum dew point temperature is -30.6°C, and the maximum dew point temperature is 27.2°C.\n",
        "\n",
        "Solar Radiation (MJ/m2): This column contains numerical data representing solar radiation in megajoules per square meter. The mean solar radiation is approximately 0.57 MJ/m2, with a standard deviation of approximately 0.87 MJ/m2. The minimum solar radiation is 0.0 MJ/m2, and the maximum solar radiation is 3.52 MJ/m2.\n",
        "\n",
        "Rainfall(mm): This column contains numerical data representing rainfall in millimeters. The mean rainfall is approximately 0.15 mm, with a standard deviation of approximately 1.13 mm. The minimum rainfall is 0.0 mm, and the maximum rainfall is 35.0 mm.\n",
        "\n",
        "Snowfall (cm): This column contains numerical data representing snowfall in centimeters. The mean snowfall is approximately 0.075 cm, with a standard deviation of approximately 0.44 cm. The minimum snowfall is 0.0 cm, and the maximum snowfall is 8.8 cm.\n",
        "\n",
        "Seasons: There are 4 unique seasons, with \"Spring\" being the most common season (appearing 2208 times).\n",
        "\n",
        "Holiday: There are 2 unique values, with \"No Holiday\" being the most common (appearing 8328 times).\n",
        "\n",
        "Functioning Day: There are 2 unique values, with \"Yes\" being the most common (appearing 8465 times)."
      ],
      "metadata": {
        "id": "aJV4KIxSnxay"
      }
    },
    {
      "cell_type": "markdown",
      "source": [
        "### Check Unique Values for each variable."
      ],
      "metadata": {
        "id": "u3PMJOP6ngxN"
      }
    },
    {
      "cell_type": "code",
      "source": [
        "# Check Unique Values for each variable.\n",
        "\n",
        "def check_unique_values(dataframe):\n",
        "     unique_values_dict = {}\n",
        "     for column in dataframe.columns:\n",
        "        unique_values_dict[column] = dataframe[column].unique()\n",
        "\n",
        "     return unique_values_dict\n",
        "\n",
        "unique_values_result = check_unique_values(data)\n",
        "for column, unique_values in unique_values_result.items():\n",
        "    print(f\"Unique values for {column}:\\n{unique_values}\\n\")\n"
      ],
      "metadata": {
        "id": "omCCRC-wnl8L"
      },
      "execution_count": null,
      "outputs": []
    },
    {
      "cell_type": "markdown",
      "source": [
        "## 3. ***Data Wrangling***"
      ],
      "metadata": {
        "id": "dauF4eBmngu3"
      }
    },
    {
      "cell_type": "markdown",
      "source": [
        "### Data Wrangling Code"
      ],
      "metadata": {
        "id": "bKJF3rekwFvQ"
      }
    },
    {
      "cell_type": "code",
      "source": [
        "# We are parsing the data into hours, date ,month and year\n",
        "data[\"Date\"] = pd.to_datetime(data[\"Date\"])\n",
        "\n",
        "data[\"Weekday\"] = data[\"Date\"].dt.day_name()\n",
        "\n",
        "data[\"Day\"]= data[\"Date\"].dt.day\n",
        "data[\"Month\"]= data[\"Date\"].dt.month\n",
        "data[\"Year\"]= data[\"Date\"].dt.year"
      ],
      "metadata": {
        "id": "wk-9a2fpoLcV"
      },
      "execution_count": null,
      "outputs": []
    },
    {
      "cell_type": "code",
      "source": [
        " data.drop(\"Date\", axis=1, inplace = True)\n"
      ],
      "metadata": {
        "id": "gvDOSeFEqFCw"
      },
      "execution_count": null,
      "outputs": []
    },
    {
      "cell_type": "code",
      "source": [
        "data.skew().sort_values(ascending= True)"
      ],
      "metadata": {
        "id": "iDXSzyQUq3Ip"
      },
      "execution_count": null,
      "outputs": []
    },
    {
      "cell_type": "markdown",
      "source": [
        "### What all manipulations have you done and insights you found?"
      ],
      "metadata": {
        "id": "MSa1f5Uengrz"
      }
    },
    {
      "cell_type": "markdown",
      "source": [
        "Year (-2.978262): This feature appears to have a negative coefficient, indicating that it has a negative impact on the target variable. In the context of a regression model, this suggests that as the year increases, the target variable decreases.\n",
        "\n",
        "Visibility (10m) (-0.701786): This feature also has a negative coefficient, suggesting that a decrease in visibility is associated with a decrease in the target variable.\n",
        "\n",
        "Dew point temperature(°C) (-0.367298): Similarly, this feature has a negative coefficient, implying that as the dew point temperature decreases, the target variable tends to decrease.\n",
        "\n",
        "Temperature(°C) (-0.198326): This feature also has a negative coefficient, indicating that lower temperatures are associated with lower values of the target variable.\n",
        "\n",
        "Month (-0.010458): The coefficient for month is close to zero, suggesting that it has a very small impact on the target variable.\n",
        "\n",
        "Hour (0.000000): The coefficient for the hour feature is exactly zero, indicating that it has no impact on the target variable in the model.\n",
        "\n",
        "Day (0.007522): This feature has a positive coefficient, suggesting that as the day increases, the target variable tends to increase slightly.\n",
        "\n",
        "Humidity(%) (0.059579): This feature has a positive coefficient, indicating that higher humidity levels are associated with higher values of the target variable.\n",
        "\n",
        "Wind speed (m/s) (0.890955): This feature has a strong positive coefficient, suggesting that an increase in wind speed is strongly associated with an increase in the target variable.\n",
        "\n",
        "Rented Bike Count (1.153428): This is the target variable, and its coefficient is not relevant for interpretation as it represents the impact of the target variable on itself, which is always 1.\n",
        "\n",
        "Solar Radiation (MJ/m2) (1.504040): This feature has a strong positive coefficient, implying that higher levels of solar radiation are associated with higher values of the target variable.\n",
        "\n",
        "Snowfall (cm) (8.440801): This feature has a very high positive coefficient, suggesting that the presence of snowfall has a significant positive impact on the target variable.\n",
        "\n",
        "Rainfall(mm) (14.533232): This feature has the highest positive coefficient, indicating that rainfall has the most significant positive impact on the target variable among all the features."
      ],
      "metadata": {
        "id": "LbyXE7I1olp8"
      }
    },
    {
      "cell_type": "markdown",
      "source": [
        "## ***4. Data Vizualization, Storytelling & Experimenting with charts : Understand the relationships between variables***"
      ],
      "metadata": {
        "id": "GF8Ens_Soomf"
      }
    },
    {
      "cell_type": "markdown",
      "source": [
        "#### Displot"
      ],
      "metadata": {
        "id": "0wOQAZs5pc--"
      }
    },
    {
      "cell_type": "code",
      "source": [
        "# Chart - 1 visualization code\n",
        "sns.displot(data[\"Rented Bike Count\"])"
      ],
      "metadata": {
        "id": "7v_ESjsspbW7"
      },
      "execution_count": null,
      "outputs": []
    },
    {
      "cell_type": "markdown",
      "source": [
        "#### Pie chart"
      ],
      "metadata": {
        "id": "KSlN3yHqYklG"
      }
    },
    {
      "cell_type": "code",
      "source": [
        "# Chart - 2 visualization code\n",
        "rainfall_categories = [\"Low\", \"Medium\", \"High\", \"Very High\"]\n",
        "rainfall_counts = [30, 40, 25, 5]\n",
        "plt.figure(figsize=(8, 8))\n",
        "plt.pie(rainfall_counts, labels=rainfall_categories, autopct='%1.1f%%', startangle=140)\n",
        "plt.title(\"Distribution of Rainfall Categories\")\n",
        "plt.axis('equal')\n",
        "plt.show()"
      ],
      "metadata": {
        "id": "R4YgtaqtYklH"
      },
      "execution_count": null,
      "outputs": []
    },
    {
      "cell_type": "markdown",
      "source": [
        "#### Pie chart"
      ],
      "metadata": {
        "id": "EM7whBJCYoAo"
      }
    },
    {
      "cell_type": "code",
      "source": [
        "# Chart - 3 visualization code\n",
        "snowfall_categories = [\"None\", \"Low\", \"Medium\", \"High\"]\n",
        "snowfall_counts = [50, 20, 15, 10]\n",
        "plt.figure(figsize=(8, 8))\n",
        "plt.pie(snowfall_counts, labels=snowfall_categories, autopct='%1.1f%%', startangle=140)\n",
        "plt.title(\"Distribution of Snowfall Categories\")\n",
        "plt.axis('equal')\n",
        "plt.show()"
      ],
      "metadata": {
        "id": "t6GMdE67YoAp"
      },
      "execution_count": null,
      "outputs": []
    },
    {
      "cell_type": "markdown",
      "source": [
        "#### Violin plot"
      ],
      "metadata": {
        "id": "4Of9eVA-YrdM"
      }
    },
    {
      "cell_type": "code",
      "source": [
        "# Chart - 4 visualization code\n",
        "sns.set(style=\"whitegrid\")\n",
        "plt.figure(figsize=(10, 6))\n",
        "sns.violinplot(x=data[\"Dew point temperature(°C)\"], palette=\"Set2\")\n",
        "plt.title(\"Dew Point Temperature Violin Plot\")\n",
        "plt.xlabel(\"Dew Point Temperature\")\n",
        "plt.ylabel(\"Density\")\n",
        "plt.show()"
      ],
      "metadata": {
        "id": "irlUoxc8YrdO"
      },
      "execution_count": null,
      "outputs": []
    },
    {
      "cell_type": "markdown",
      "source": [
        "#### Barplot"
      ],
      "metadata": {
        "id": "PIIx-8_IphqN"
      }
    },
    {
      "cell_type": "code",
      "source": [
        "# Chart - 7 visualization code\n",
        "plt.figure(figsize=(10,7))\n",
        "Month = data.groupby(\"Month\").sum().reset_index()\n",
        "sns.barplot(x= \"Month\", y= \"Rented Bike Count\",data= Month)"
      ],
      "metadata": {
        "id": "lqAIGUfyphqO"
      },
      "execution_count": null,
      "outputs": []
    },
    {
      "cell_type": "markdown",
      "source": [
        "#### Barplot"
      ],
      "metadata": {
        "id": "BZR9WyysphqO"
      }
    },
    {
      "cell_type": "code",
      "source": [
        "# Chart - 8 visualization code\n",
        "plt.figure(figsize=(15,10))\n",
        "Day = data.groupby(\"Day\").sum().reset_index()\n",
        "sns.barplot(x= \"Day\", y= \"Rented Bike Count\",data= Day)"
      ],
      "metadata": {
        "id": "TdPTWpAVphqO"
      },
      "execution_count": null,
      "outputs": []
    },
    {
      "cell_type": "markdown",
      "source": [
        "#### Barplot"
      ],
      "metadata": {
        "id": "YJ55k-q6phqO"
      }
    },
    {
      "cell_type": "code",
      "source": [
        "# Chart - 9 visualization code\n",
        "plt.figure(figsize=(10,7))\n",
        "Hour = data.groupby(\"Hour\").sum().reset_index()\n",
        "sns.barplot(x= \"Hour\", y= \"Rented Bike Count\",data= Hour)"
      ],
      "metadata": {
        "id": "B2aS4O1ophqO"
      },
      "execution_count": null,
      "outputs": []
    },
    {
      "cell_type": "markdown",
      "source": [
        "#### Barplot"
      ],
      "metadata": {
        "id": "U2RJ9gkRphqQ"
      }
    },
    {
      "cell_type": "code",
      "source": [
        "# Chart - 10 visualization code\n",
        "plt.figure(figsize=(20, 10))\n",
        "sns.barplot(x=\"Rainfall(mm)\", y=\"Rented Bike Count\", data=data)"
      ],
      "metadata": {
        "id": "GM7a4YP4phqQ"
      },
      "execution_count": null,
      "outputs": []
    },
    {
      "cell_type": "markdown",
      "source": [
        "#### Barplot"
      ],
      "metadata": {
        "id": "x-EpHcCOp1ci"
      }
    },
    {
      "cell_type": "code",
      "source": [
        "# Chart - 11 visualization code\n",
        "plt.figure(figsize= (7,5))\n",
        "sns.barplot(x=\"Seasons\", y =\"Rented Bike Count\", data= data)"
      ],
      "metadata": {
        "id": "mAQTIvtqp1cj"
      },
      "execution_count": null,
      "outputs": []
    },
    {
      "cell_type": "markdown",
      "source": [
        "#### Barplot"
      ],
      "metadata": {
        "id": "n3dbpmDWp1ck"
      }
    },
    {
      "cell_type": "code",
      "source": [
        "# Chart - 12 visualization code\n",
        "plt.figure(figsize=(15, 10))\n",
        "sns.barplot(x=\"Snowfall (cm)\", y=\"Rented Bike Count\", data=data)\n",
        "plt.title(\"Snowfall vs. Rented Bike Count\")\n",
        "plt.xlabel(\"Snowfall (cm)\")\n",
        "plt.ylabel(\"Rented Bike Count\")\n",
        "plt.show()"
      ],
      "metadata": {
        "id": "bwevp1tKp1ck"
      },
      "execution_count": null,
      "outputs": []
    },
    {
      "cell_type": "markdown",
      "source": [
        "###Pairplot"
      ],
      "metadata": {
        "id": "q29F0dvdveiT"
      }
    },
    {
      "cell_type": "code",
      "source": [
        "# Pair Plot visualization code\n",
        "sns.pairplot(data)"
      ],
      "metadata": {
        "id": "o58-TEIhveiU"
      },
      "execution_count": null,
      "outputs": []
    },
    {
      "cell_type": "markdown",
      "source": [
        "## ***5. Hypothesis Testing***"
      ],
      "metadata": {
        "id": "g-ATYxFrGrvw"
      }
    },
    {
      "cell_type": "markdown",
      "source": [
        "### Based on your chart experiments, define three hypothetical statements from the dataset. In the next three questions, perform hypothesis testing to obtain final conclusion about the statements through your code and statistical testing."
      ],
      "metadata": {
        "id": "Yfr_Vlr8HBkt"
      }
    },
    {
      "cell_type": "markdown",
      "source": [
        "### Hypothetical Statement"
      ],
      "metadata": {
        "id": "8yEUt7NnHlrM"
      }
    },
    {
      "cell_type": "markdown",
      "source": [
        "#### 1. State Your research hypothesis as a null hypothesis and alternate hypothesis."
      ],
      "metadata": {
        "id": "tEA2Xm5dHt1r"
      }
    },
    {
      "cell_type": "markdown",
      "source": [
        "Research Question: What is the correlation between hours and Rented Bike Count?\n",
        "\n",
        "Null Hypothesis (H0):There is no significant correlation between the hours of the day and the Rented Bike Count.\n",
        "\n",
        "Alternative Hypothesis (Ha):There is a significant correlation between the hours of the day and the Rented Bike Count.\n"
      ],
      "metadata": {
        "id": "HI9ZP0laH0D-"
      }
    },
    {
      "cell_type": "markdown",
      "source": [
        "#### 2. Perform an appropriate statistical test."
      ],
      "metadata": {
        "id": "I79__PHVH19G"
      }
    },
    {
      "cell_type": "code",
      "source": [
        "# Perform Statistical Test to obtain P-Value\n",
        "import scipy.stats as stats\n",
        "correlation, p_value = stats.pearsonr(data[\"Hour\"], data[\"Rented Bike Count\"])\n",
        "print(f\"Person Correlation Coefficient: {correlation:.2f}\")\n",
        "print(f\"P-value: {p_value:.2f}\")"
      ],
      "metadata": {
        "id": "oZrfquKtyian"
      },
      "execution_count": null,
      "outputs": []
    },
    {
      "cell_type": "markdown",
      "source": [
        "##### Which statistical test have you done to obtain P-Value?"
      ],
      "metadata": {
        "id": "Ou-I18pAyIpj"
      }
    },
    {
      "cell_type": "markdown",
      "source": [
        "I have used Correlation stat test"
      ],
      "metadata": {
        "id": "s2U0kk00ygSB"
      }
    },
    {
      "cell_type": "markdown",
      "source": [
        "##### Why did you choose the specific statistical test?"
      ],
      "metadata": {
        "id": "fF3858GYyt-u"
      }
    },
    {
      "cell_type": "markdown",
      "source": [
        "These hypotheses are set up to test whether there is a statistically significant linear relationship between the \"Hour\" and \"Rented Bike Count\" variables. If the p-value from the correlation test is less than a chosen significance level (e.g., 0.05).\"Rented Bike Count\" appears to be a numerical variable, while \"Hour\" is a numerical variable representing time where the p value is 0.00 hence they are not  correlated."
      ],
      "metadata": {
        "id": "HO4K0gP5y3B4"
      }
    },
    {
      "cell_type": "markdown",
      "source": [
        "### Hypothetical Statement - 2"
      ],
      "metadata": {
        "id": "4_0_7-oCpUZd"
      }
    },
    {
      "cell_type": "markdown",
      "source": [
        "#### 1. State Your research hypothesis as a null hypothesis and alternate hypothesis."
      ],
      "metadata": {
        "id": "hwyV_J3ipUZe"
      }
    },
    {
      "cell_type": "markdown",
      "source": [
        "Research Question: Is there a statistically significant association between the seasons and the number of rented bikes?\n",
        "\n",
        "Null Hypothesis (H0): There is no significant association between the seasons and the number of rented bikes. In other words, the season and the number of rented bikes are independent of each other.\n",
        "\n",
        "Alternative Hypothesis (Ha): There is a statistically significant association between the seasons and the number of rented bikes. In other words, the season and the number of rented bikes are dependent on each other."
      ],
      "metadata": {
        "id": "FnpLGJ-4pUZe"
      }
    },
    {
      "cell_type": "markdown",
      "source": [
        "#### 2. Perform an appropriate statistical test."
      ],
      "metadata": {
        "id": "3yB-zSqbpUZe"
      }
    },
    {
      "cell_type": "code",
      "source": [
        "# Perform Statistical Test to obtain P-Value\n",
        "from scipy.stats import chi2_contingency\n",
        "contingency_table = pd.crosstab(data['Seasons'], data['Rented Bike Count'])\n",
        "chi2, p, dof, expected = chi2_contingency(contingency_table)\n",
        "print(f\"Chi-Square Statistic: {chi2:.2f}\")\n",
        "print(f\"P-value: {p:.5f}\")\n",
        "print(f\"Degrees of Freedom: {dof}\")"
      ],
      "metadata": {
        "id": "sWxdNTXNpUZe"
      },
      "execution_count": null,
      "outputs": []
    },
    {
      "cell_type": "markdown",
      "source": [
        "##### Which statistical test have you done to obtain P-Value?"
      ],
      "metadata": {
        "id": "dEUvejAfpUZe"
      }
    },
    {
      "cell_type": "markdown",
      "source": [
        "Chi - square test"
      ],
      "metadata": {
        "id": "oLDrPz7HpUZf"
      }
    },
    {
      "cell_type": "markdown",
      "source": [
        "##### Why did you choose the specific statistical test?"
      ],
      "metadata": {
        "id": "Fd15vwWVpUZf"
      }
    },
    {
      "cell_type": "markdown",
      "source": [
        "The Chi-Square test will assess whether the observed distribution of bike rentals across seasons differs significantly from what would be expected if there were no association (independence) between these variables."
      ],
      "metadata": {
        "id": "4xOGYyiBpUZf"
      }
    },
    {
      "cell_type": "markdown",
      "source": [
        "### Hypothetical Statement - 3"
      ],
      "metadata": {
        "id": "bn_IUdTipZyH"
      }
    },
    {
      "cell_type": "markdown",
      "source": [
        "#### 1. State Your research hypothesis as a null hypothesis and alternate hypothesis."
      ],
      "metadata": {
        "id": "49K5P_iCpZyH"
      }
    },
    {
      "cell_type": "markdown",
      "source": [
        "Research Question: Is there a significant difference in the average number of rented bikes between holidays and non-holidays?\n",
        "\n",
        "Null Hypothesis (H0): There is no significant difference in the average number of rented bikes between holidays and non-holidays.\n",
        "\n",
        "Alternative Hypothesis (Ha): There is a significant difference in the average number of rented bikes between holidays and non-holidays."
      ],
      "metadata": {
        "id": "7gWI5rT9pZyH"
      }
    },
    {
      "cell_type": "markdown",
      "source": [
        "#### 2. Perform an appropriate statistical test."
      ],
      "metadata": {
        "id": "Nff-vKELpZyI"
      }
    },
    {
      "cell_type": "code",
      "source": [
        "# Perform Statistical Test to obtain P-Value\n",
        "holiday_data = data[data['Holiday'] == 'Holiday']['Rented Bike Count']\n",
        "non_holiday_data = data[data['Holiday'] == 'No Holiday']['Rented Bike Count']\n",
        "t_statistic, p_value = stats.ttest_ind(holiday_data, non_holiday_data, equal_var=False)\n",
        "print(f\"T-Statistic: {t_statistic:.2f}\")\n",
        "print(f\"P-value: {p_value:.5f}\")"
      ],
      "metadata": {
        "id": "s6AnJQjtpZyI"
      },
      "execution_count": null,
      "outputs": []
    },
    {
      "cell_type": "markdown",
      "source": [
        "##### Which statistical test have you done to obtain P-Value?"
      ],
      "metadata": {
        "id": "kLW572S8pZyI"
      }
    },
    {
      "cell_type": "markdown",
      "source": [
        "I have used t-test for this comparison"
      ],
      "metadata": {
        "id": "ytWJ8v15pZyI"
      }
    },
    {
      "cell_type": "markdown",
      "source": [
        "##### Why did you choose the specific statistical test?"
      ],
      "metadata": {
        "id": "dWbDXHzopZyI"
      }
    },
    {
      "cell_type": "markdown",
      "source": [
        "The p-value will tell you whether there is a statistically significant difference in the average number of rented bikes between holidays and non-holidays."
      ],
      "metadata": {
        "id": "M99G98V6pZyI"
      }
    },
    {
      "cell_type": "markdown",
      "source": [
        "## ***6. Feature Engineering & Data Pre-processing***"
      ],
      "metadata": {
        "id": "yLjJCtPM0KBk"
      }
    },
    {
      "cell_type": "code",
      "source": [
        "# Skewwed data\n",
        "data.skew().sort_values(ascending= True)\n",
        "#Since from the parirplot we get to see that snowfall, rainfall and windspeed had outliers we are not removing them cause it is not affecting our model"
      ],
      "metadata": {
        "id": "C5ZQiJC1epoF"
      },
      "execution_count": null,
      "outputs": []
    },
    {
      "cell_type": "code",
      "source": [
        "# Remove multicollinearity\n",
        "plt.figure(figsize =(10,15))\n",
        "sns.heatmap(data.corr(),annot = True, cmap=\"coolwarm\")\n"
      ],
      "metadata": {
        "id": "0c9RzAH_gA9X"
      },
      "execution_count": null,
      "outputs": []
    },
    {
      "cell_type": "code",
      "source": [
        "def get_vif(data):\n",
        "    vif = pd.DataFrame()\n",
        "    vif[\"variables\"]= data.columns\n",
        "    vif[\"VIF\"] = [variance_inflation_factor(data.values, i) for i in range(data.shape[1])]\n",
        "    return vif\n",
        "\n",
        "not_for_vif= [\"Day\",\"Month\",\"Year\",\"Rented Bike Count\"]\n",
        "get_vif(data[[i for i in data.describe().columns if i not in not_for_vif]])"
      ],
      "metadata": {
        "id": "LjG-IZ_IiaZH"
      },
      "execution_count": null,
      "outputs": []
    },
    {
      "cell_type": "code",
      "source": [
        "not_for_vif= [\"Day\",\"Month\",\"Year\",\"Rented Bike Count\",\"Dew point temperature(°C)\"]\n",
        "get_vif(data[[i for i in data.describe().columns if i not in not_for_vif]])"
      ],
      "metadata": {
        "id": "VEws6VNniak0"
      },
      "execution_count": null,
      "outputs": []
    },
    {
      "cell_type": "code",
      "source": [
        "data.drop([\"Dew point temperature(°C)\"],axis=1,inplace= True)"
      ],
      "metadata": {
        "id": "2XWVnW2siant"
      },
      "execution_count": null,
      "outputs": []
    },
    {
      "cell_type": "code",
      "source": [
        "# Encoding\n",
        "cat_features= [\"Seasons\",\"Holiday\",\"Functioning Day\",\"Weekday\"]\n",
        "data['Holiday'].value_counts()"
      ],
      "metadata": {
        "id": "PImuLJ2jkS3D"
      },
      "execution_count": null,
      "outputs": []
    },
    {
      "cell_type": "code",
      "source": [
        "data['Functioning Day'].value_counts()"
      ],
      "metadata": {
        "id": "6lDQPPfVlQ96"
      },
      "execution_count": null,
      "outputs": []
    },
    {
      "cell_type": "code",
      "source": [
        "data['Seasons'].value_counts()"
      ],
      "metadata": {
        "id": "oGsN0yzIlbrE"
      },
      "execution_count": null,
      "outputs": []
    },
    {
      "cell_type": "code",
      "source": [
        "data[\"Holiday\"] = data[\"Holiday\"].map({\"No Holiday\": 0, \"Holiday\": 1})\n",
        "data[\"Functioning Day\"] = data[\"Functioning Day\"].map({\"No\": 0, \"Yes\": 1})"
      ],
      "metadata": {
        "id": "W9A5bTuAlcIR"
      },
      "execution_count": null,
      "outputs": []
    },
    {
      "cell_type": "code",
      "source": [
        "# one- hot encoding\n",
        "data_season = pd.get_dummies(data[\"Seasons\"],drop_first = True)\n",
        "data_Weekday = pd.get_dummies(data[\"Weekday\"],drop_first = True)\n",
        "data = pd.concat([data, data_season,data_Weekday],axis =1)"
      ],
      "metadata": {
        "id": "1cRLteDRnn59"
      },
      "execution_count": null,
      "outputs": []
    },
    {
      "cell_type": "code",
      "source": [
        "data.drop([\"Seasons\",\"Weekday\"],axis=1,inplace= True)\n",
        "data.shape"
      ],
      "metadata": {
        "id": "edX0bL9Xnvih"
      },
      "execution_count": null,
      "outputs": []
    },
    {
      "cell_type": "code",
      "source": [
        "#Split Data for training and testing\n",
        "X= data.drop(\"Rented Bike Count\", axis= 1)\n",
        "y= data[\"Rented Bike Count\"]\n",
        "\n",
        "X_train,X_test,y_train,y_test = train_test_split(X,y,test_size=0.2, random_state=2023)\n",
        "\n",
        "print(\"Shape of X_train:\",X_train.shape)\n",
        "print(\"shape of y_test:\",y_test.shape)\n",
        "print(\"shape of X_test:\",X_test.shape)\n",
        "print(\"shape of y_train:\",y_train.shape)"
      ],
      "metadata": {
        "id": "OvH-UPYtoJhF"
      },
      "execution_count": null,
      "outputs": []
    },
    {
      "cell_type": "code",
      "source": [
        "# Data Scaling\n",
        "sc = StandardScaler()\n",
        "sc.fit(X_train)\n",
        "\n",
        "X_train = sc.transform(X_train)\n",
        "X_test = sc.transform(X_test)"
      ],
      "metadata": {
        "id": "KdGPQ_3vobMU"
      },
      "execution_count": null,
      "outputs": []
    },
    {
      "cell_type": "code",
      "source": [
        "X_train[:2]"
      ],
      "metadata": {
        "id": "Pvyk-btZpG7s"
      },
      "execution_count": null,
      "outputs": []
    },
    {
      "cell_type": "code",
      "source": [
        "sc.mean_"
      ],
      "metadata": {
        "id": "5FYdHselpRoZ"
      },
      "execution_count": null,
      "outputs": []
    },
    {
      "cell_type": "code",
      "source": [
        "sc.scale_"
      ],
      "metadata": {
        "id": "tdqi4HF7pWBC"
      },
      "execution_count": null,
      "outputs": []
    },
    {
      "cell_type": "markdown",
      "source": [
        "## Training model"
      ],
      "metadata": {
        "id": "ZZYGBU3TptGV"
      }
    },
    {
      "cell_type": "markdown",
      "source": [
        "## Linear Model"
      ],
      "metadata": {
        "id": "3YSM11-xpyGz"
      }
    },
    {
      "cell_type": "code",
      "source": [
        "from sklearn.linear_model import LinearRegression\n",
        "lr= LinearRegression()\n",
        "lr.fit(X_train,y_train)"
      ],
      "metadata": {
        "id": "6q4I4B-gpxnF"
      },
      "execution_count": null,
      "outputs": []
    },
    {
      "cell_type": "code",
      "source": [
        "y_pred =lr.predict(X_test)\n",
        "y_pred"
      ],
      "metadata": {
        "id": "KGoXDDIRX0AU"
      },
      "execution_count": null,
      "outputs": []
    },
    {
      "cell_type": "markdown",
      "source": [
        "## Model Evaluation"
      ],
      "metadata": {
        "id": "LhbBXJeQY3IO"
      }
    },
    {
      "cell_type": "code",
      "source": [
        "from sklearn.metrics import mean_squared_error, mean_absolute_error,r2_score"
      ],
      "metadata": {
        "id": "0rOJt18rY72x"
      },
      "execution_count": null,
      "outputs": []
    },
    {
      "cell_type": "code",
      "source": [
        "MSE = mean_squared_error(y_test,y_pred)\n",
        "RMSE = np.sqrt(MSE)\n",
        "MAE = mean_absolute_error(y_test,y_pred)\n",
        "R2 = r2_score(y_test,y_pred)\n",
        "\n",
        "print(f\"MSE : {MSE}\")\n",
        "print(f\"RMSE : {RMSE}\")\n",
        "print(f\"MAE : {MAE}\")\n",
        "print(f\"R2 : {R2}\")"
      ],
      "metadata": {
        "id": "bkD5FjwyZDQK"
      },
      "execution_count": null,
      "outputs": []
    },
    {
      "cell_type": "code",
      "source": [
        "def get_metrics(y_true,y_pred,model_name):\n",
        "    MSE = mean_squared_error(y_test,y_pred)\n",
        "    RMSE = np.sqrt(MSE)\n",
        "    MAE = mean_absolute_error(y_test,y_pred)\n",
        "    R2 = r2_score(y_test,y_pred)\n",
        "\n",
        "    print(f\"{model_name}: ['MSE':{round(MSE,3)}, 'RMSE':{round(RMSE,3)}, 'MAE' :{round(MAE,3)}, 'R2':{round(R2,3)}]\")"
      ],
      "metadata": {
        "id": "0jlslnnXZQOi"
      },
      "execution_count": null,
      "outputs": []
    },
    {
      "cell_type": "code",
      "source": [
        "get_metrics(y_test,y_pred,\"LinearRegression\")"
      ],
      "metadata": {
        "id": "f8HBRq9ZZlvt"
      },
      "execution_count": null,
      "outputs": []
    },
    {
      "cell_type": "markdown",
      "source": [
        "## Train Multiple Models\n",
        "\n"
      ],
      "metadata": {
        "id": "hqPWiaZRaXdM"
      }
    },
    {
      "cell_type": "code",
      "source": [
        "from sklearn.linear_model import Ridge, Lasso\n",
        "from sklearn.preprocessing import PolynomialFeatures\n",
        "from sklearn.svm import SVR\n",
        "from sklearn.neighbors import KNeighborsRegressor\n",
        "from sklearn.tree import DecisionTreeRegressor\n",
        "from sklearn.ensemble import RandomForestRegressor\n",
        "from xgboost import XGBRegressor"
      ],
      "metadata": {
        "id": "gwsRGNcvaWPn"
      },
      "execution_count": null,
      "outputs": []
    },
    {
      "cell_type": "code",
      "source": [
        "from xgboost.sklearn import XGBRFRegressor\n",
        "rir = Ridge().fit(X_train,y_train)\n",
        "y_pred_rir = rir.predict(X_test)\n",
        "\n",
        "lar = Lasso().fit(X_train,y_train)\n",
        "y_pred_lar = lar.predict(X_test)\n",
        "\n",
        "poly = PolynomialFeatures(2)\n",
        "X_train_poly =poly.fit_transform(X_train)\n",
        "X_test_poly = poly.fit_transform(X_test)\n",
        "\n",
        "poly_r = LinearRegression().fit(X_train_poly, y_train)\n",
        "y_pred_poly = poly_r.predict(X_test_poly)\n",
        "\n",
        "svr = SVR().fit(X_train,y_train)\n",
        "y_pred_svr = svr.predict(X_test)\n",
        "\n",
        "knnr = KNeighborsRegressor().fit(X_train,y_train)\n",
        "y_pred_knnr = knnr.predict(X_test)\n",
        "\n",
        "dtr = DecisionTreeRegressor().fit(X_train,y_train)\n",
        "y_pred_dtr = dtr.predict(X_test)\n",
        "\n",
        "rfr = RandomForestRegressor().fit(X_train,y_train)\n",
        "y_pred_rfr = rfr.predict(X_test)\n",
        "\n",
        "Xgbr = XGBRFRegressor().fit(X_train,y_train)\n",
        "y_pred_Xgbr = Xgbr.predict(X_test)"
      ],
      "metadata": {
        "id": "AjalxZK6aWaj"
      },
      "execution_count": null,
      "outputs": []
    },
    {
      "cell_type": "code",
      "source": [
        "get_metrics(y_test,y_pred_rir,\"Ridge\")\n",
        "get_metrics(y_test,y_pred_lar,\"Lasso\")\n",
        "get_metrics(y_test,y_pred_poly,\"PolynomialFeatures\")\n",
        "get_metrics(y_test,y_pred_svr,\"SVR\")\n",
        "get_metrics(y_test,y_pred_knnr,\"KNNR\")\n",
        "get_metrics(y_test,y_pred_dtr,\"DecisionTreeRegressor\")\n",
        "get_metrics(y_test,y_pred_rfr,\"RandomForestRegressor\")\n",
        "get_metrics(y_test,y_pred_Xgbr,\"XGBRegressor\")"
      ],
      "metadata": {
        "id": "Oj0NKeU7aWdf"
      },
      "execution_count": null,
      "outputs": []
    },
    {
      "cell_type": "markdown",
      "source": [
        "##Visualise Model Prediction\n"
      ],
      "metadata": {
        "id": "ZRHK9RhhbQMg"
      }
    },
    {
      "cell_type": "code",
      "source": [
        "plt.scatter(y_test,y_pred)\n",
        "plt.title(\"Linear Regression Truth vs Prediction\")\n",
        "plt.xlabel(\"Ground Truth\")\n",
        "plt.ylabel(\"Prediction\")\n",
        "plt.show()"
      ],
      "metadata": {
        "id": "keREonUpaWf4"
      },
      "execution_count": null,
      "outputs": []
    },
    {
      "cell_type": "markdown",
      "source": [
        "## ***ML Model Implementation***"
      ],
      "metadata": {
        "id": "Z1F3ZY7n49Q1"
      }
    },
    {
      "cell_type": "markdown",
      "source": [
        "##1. 1 Decision Tree Model"
      ],
      "metadata": {
        "id": "yxFhYUTj51W4"
      }
    },
    {
      "cell_type": "code",
      "source": [
        "# ML Model - 1 Implementation\n",
        "def get_metrics(y_true,y_pred,model_name):\n",
        "    MSE = mean_squared_error(y_test,y_pred)\n",
        "    RMSE = np.sqrt(MSE)\n",
        "    MAE = mean_absolute_error(y_test,y_pred)\n",
        "    R2 = r2_score(y_test,y_pred)\n",
        "\n",
        "    print(f\"{model_name}: ['MSE':{round(MSE,3)}, 'RMSE':{round(RMSE,3)}, 'MAE' :{round(MAE,3)}, 'R2':{round(R2,3)}]\")\n",
        "# Fit the Algorithm\n",
        "dtr = DecisionTreeRegressor().fit(X_train,y_train)\n",
        "# Predict on the model\n",
        "y_pred_dtr = dtr.predict(X_test)"
      ],
      "metadata": {
        "id": "MwsrHCdl61bO"
      },
      "execution_count": null,
      "outputs": []
    },
    {
      "cell_type": "markdown",
      "source": [
        "##1.2 Performance Evaluation and Metric score chart"
      ],
      "metadata": {
        "id": "SAFNfTWC6Ldy"
      }
    },
    {
      "cell_type": "code",
      "source": [
        "# Visualizing evaluation Metric Score chart\n",
        "# Evaluation\n",
        "get_metrics(y_test,y_pred_dtr,\"DecisionTreeRegressor\")\n",
        "# Metric score chart\n",
        "plt.scatter(y_test,y_pred_dtr)\n",
        "plt.title(\"DecisionTreeRegressor Truth vs Prediction\")\n",
        "plt.xlabel(\"Ground Truth\")\n",
        "plt.ylabel(\"Prediction\")\n",
        "plt.show()"
      ],
      "metadata": {
        "id": "F2RuNzpmeTZG"
      },
      "execution_count": null,
      "outputs": []
    },
    {
      "cell_type": "markdown",
      "source": [
        "#### 1.3  Cross- Validation & Hyperparameter Tuning"
      ],
      "metadata": {
        "id": "kxWbYanW7yTP"
      }
    },
    {
      "cell_type": "code",
      "source": [
        "# ML Model - 1 Implementation with hyperparameter optimization techniques (i.e., GridSearch CV, RandomSearch CV, Bayesian Optimization etc.)\n",
        "# Fit the Algorithm\n",
        "# Predict on the model\n",
        "from sklearn.model_selection import GridSearchCV\n",
        "from sklearn.tree import DecisionTreeRegressor\n",
        "\n",
        "# Define the parameter grid to search\n",
        "param_grid = {\n",
        "    'max_depth': [None, 10, 20],\n",
        "    'min_samples_split': [2, 5, 10],\n",
        "    'min_samples_leaf': [1, 2, 4]\n",
        "}\n",
        "\n",
        "# Create the DecisionTreeRegressor model\n",
        "dt = DecisionTreeRegressor()\n",
        "\n",
        "# Create GridSearchCV instance with 5-fold cross-validation\n",
        "grid_search = GridSearchCV(estimator=dt, param_grid=param_grid, cv=5, scoring='neg_mean_squared_error', n_jobs=-1)\n",
        "\n",
        "# Fit the model with cross-validation\n",
        "grid_search.fit(X_train, y_train)\n",
        "\n",
        "# Get the best hyperparameters\n",
        "best_params = grid_search.best_params_\n",
        "\n",
        "# Get the best estimator (model)\n",
        "best_model = grid_search.best_estimator_\n",
        "\n",
        "# Predict with the best model\n",
        "y_pred_best = best_model.predict(X_test)\n",
        "\n",
        "# Calculate and print evaluation metrics for the best model\n",
        "get_metrics(y_test, y_pred_best, \"DecisionTreeRegressor (Tuned)\")\n"
      ],
      "metadata": {
        "id": "_pyXjXht8W1q"
      },
      "execution_count": null,
      "outputs": []
    },
    {
      "cell_type": "markdown",
      "source": [
        "##### Which hyperparameter optimization technique have you used and why?\n",
        "##### Have you seen any improvement? Note down the improvement with updates Evaluation metric Score Chart."
      ],
      "metadata": {
        "id": "-J6Qmpig8HFl"
      }
    },
    {
      "cell_type": "markdown",
      "source": [
        "##2. 1 Random Forest Regressor"
      ],
      "metadata": {
        "id": "Nv5nLIhtM_Nn"
      }
    },
    {
      "cell_type": "code",
      "source": [
        "# ML Model - 1 Implementation\n",
        "def get_metrics(y_true,y_pred,model_name):\n",
        "    MSE = mean_squared_error(y_test,y_pred)\n",
        "    RMSE = np.sqrt(MSE)\n",
        "    MAE = mean_absolute_error(y_test,y_pred)\n",
        "    R2 = r2_score(y_test,y_pred)\n",
        "    print(f\"{model_name}: ['MSE':{round(MSE,3)}, 'RMSE':{round(RMSE,3)}, 'MAE' :{round(MAE,3)}, 'R2':{round(R2,3)}]\")\n",
        "# Fit the Algorithm\n",
        "rfr = RandomForestRegressor().fit(X_train,y_train)\n",
        "# Predict on the model\n",
        "y_pred_rfr = rfr.predict(X_test)"
      ],
      "metadata": {
        "id": "Ntt3lXe88Xl0"
      },
      "execution_count": null,
      "outputs": []
    },
    {
      "cell_type": "markdown",
      "source": [
        "##2.2 Performance Evaluation and Metric score chart"
      ],
      "metadata": {
        "id": "7-JqA1jvXBCT"
      }
    },
    {
      "cell_type": "code",
      "source": [
        "# Visualizing evaluation Metric Score chart\n",
        "# Evaluation\n",
        "get_metrics(y_test,y_pred_rfr,\"RandomForestRegressor\")\n",
        "# Metric score chart\n",
        "plt.scatter(y_test,y_pred_rfr)\n",
        "plt.title(\"RandomForestRegressor Truth vs Prediction\")\n",
        "plt.xlabel(\"Ground Truth\")\n",
        "plt.ylabel(\"Prediction\")\n",
        "plt.show()"
      ],
      "metadata": {
        "id": "sDyZJMa2cfLv"
      },
      "execution_count": null,
      "outputs": []
    },
    {
      "cell_type": "markdown",
      "source": [
        "#### 2.3 Cross- Validation & Hyperparameter Tuning\n"
      ],
      "metadata": {
        "id": "aeQ2oXELfgx3"
      }
    },
    {
      "cell_type": "code",
      "source": [
        "from sklearn.model_selection import GridSearchCV\n",
        "from sklearn.ensemble import RandomForestRegressor\n",
        "\n",
        "# Define the parameter grid to search\n",
        "param_grid = {\n",
        "    'n_estimators': [100, 200, 300],\n",
        "    'max_depth': [None, 10, 20],\n",
        "    'min_samples_split': [2, 5, 10],\n",
        "    'min_samples_leaf': [1, 2, 4]\n",
        "}\n",
        "\n",
        "# Create the Random Forest Regressor model\n",
        "rfr = RandomForestRegressor()\n",
        "\n",
        "# Create GridSearchCV instance with 5-fold cross-validation\n",
        "grid_search = GridSearchCV(estimator=rfr, param_grid=param_grid, cv=5, scoring='neg_mean_squared_error', n_jobs=-1)\n",
        "\n",
        "# Fit the model with cross-validation\n",
        "grid_search.fit(X_train, y_train)\n",
        "\n",
        "# Get the best hyperparameters\n",
        "best_params = grid_search.best_params_\n",
        "\n",
        "# Get the best estimator (model)\n",
        "best_model = grid_search.best_estimator_\n",
        "\n",
        "# Predict with the best model\n",
        "y_pred_best = best_model.predict(X_test)\n",
        "\n",
        "# Calculate and print evaluation metrics for the best model\n",
        "get_metrics(y_test, y_pred_best, \"RandomForestRegressor (Tuned)\")\n"
      ],
      "metadata": {
        "id": "nrPxvgD3vN4n"
      },
      "execution_count": null,
      "outputs": []
    },
    {
      "cell_type": "markdown",
      "source": [
        "##3. XGB Regressor"
      ],
      "metadata": {
        "id": "XYdpunVSQANH"
      }
    },
    {
      "cell_type": "code",
      "source": [
        "# ML Model - 1 Implementation\n",
        "def get_metrics(y_true,y_pred,model_name):\n",
        "    MSE = mean_squared_error(y_test,y_pred)\n",
        "    RMSE = np.sqrt(MSE)\n",
        "    MAE = mean_absolute_error(y_test,y_pred)\n",
        "    R2 = r2_score(y_test,y_pred)\n",
        "    print(f\"{model_name}: ['MSE':{round(MSE,3)}, 'RMSE':{round(RMSE,3)}, 'MAE' :{round(MAE,3)}, 'R2':{round(R2,3)}]\")\n",
        "# Fit the Algorithm\n",
        "Xgbr = XGBRFRegressor().fit(X_train,y_train)\n",
        "# Predict on the model\n",
        "y_pred_Xgbr = Xgbr.predict(X_test)"
      ],
      "metadata": {
        "id": "tPI0yyUuRq_y"
      },
      "execution_count": null,
      "outputs": []
    },
    {
      "cell_type": "code",
      "source": [
        "# Visualizing evaluation Metric Score chart\n",
        "# Evaluation\n",
        "get_metrics(y_test,y_pred_Xgbr,\"XGBRegressor\")\n",
        "# Metric score chart\n",
        "plt.scatter(y_test,y_pred_Xgbr)\n",
        "plt.title(\"XGBRegressor Truth vs Prediction\")\n",
        "plt.xlabel(\"Ground Truth\")\n",
        "plt.ylabel(\"Prediction\")\n",
        "plt.show()"
      ],
      "metadata": {
        "id": "MPUz0Z1Ecfid"
      },
      "execution_count": null,
      "outputs": []
    },
    {
      "cell_type": "markdown",
      "source": [
        "#### 3.3 Cross- Validation & Hyperparameter Tuning\n"
      ],
      "metadata": {
        "id": "QSRj9z5qbtkQ"
      }
    },
    {
      "cell_type": "code",
      "source": [
        "from sklearn.model_selection import GridSearchCV\n",
        "from xgboost import XGBRegressor\n",
        "\n",
        "# Define the parameter grid to search\n",
        "param_grid = {\n",
        "    'n_estimators': [100, 200, 300],\n",
        "    'max_depth': [3, 4, 5],\n",
        "    'learning_rate': [0.01, 0.1, 0.2],\n",
        "    'min_child_weight': [1, 2, 4],\n",
        "    'subsample': [0.8, 0.9, 1.0],\n",
        "    'colsample_bytree': [0.8, 0.9, 1.0]\n",
        "}\n",
        "\n",
        "# Create the XGBoost Regressor model\n",
        "xgb = XGBRegressor()\n",
        "\n",
        "# Create GridSearchCV instance with 5-fold cross-validation\n",
        "grid_search = GridSearchCV(estimator=xgb, param_grid=param_grid, cv=5, scoring='neg_mean_squared_error', n_jobs=-1)\n",
        "\n",
        "# Fit the model with cross-validation\n",
        "grid_search.fit(X_train, y_train)\n",
        "\n",
        "# Get the best hyperparameters\n",
        "best_params = grid_search.best_params_\n",
        "\n",
        "# Get the best estimator (model)\n",
        "best_model = grid_search.best_estimator_\n",
        "\n",
        "# Predict with the best model\n",
        "y_pred_best = best_model.predict(X_test)\n",
        "\n",
        "# Calculate and print evaluation metrics for the best model\n",
        "get_metrics(y_test, y_pred_best, \"XGBRegressor (Tuned)\")\n"
      ],
      "metadata": {
        "id": "4nlWWqMMBEhL"
      },
      "execution_count": null,
      "outputs": []
    },
    {
      "cell_type": "markdown",
      "source": [
        "### 1. Which Evaluation metrics did you consider for a positive business impact and why?"
      ],
      "metadata": {
        "id": "h_CCil-SKHpo"
      }
    },
    {
      "cell_type": "markdown",
      "source": [
        "We have chosen appropriate evaluation metrics (MSE, RMSE, MAE, and R2) to assess the positive business impact of our Random Forest Regressor (Tuned) model. These metrics collectively indicate that our model is making accurate predictions and capturing a substantial portion of the underlying data patterns, which can lead to better decision-making and positive business outcomes."
      ],
      "metadata": {
        "id": "jHVz9hHDKFms"
      }
    },
    {
      "cell_type": "markdown",
      "source": [
        "### 2. Which ML model did you choose from the above created models as your final prediction model and why?"
      ],
      "metadata": {
        "id": "cBFFvTBNJzUa"
      }
    },
    {
      "cell_type": "markdown",
      "source": [
        "1.High Accuracy (R2 Score): The Random Forest Regressor achieved an R2 score of 0.902 after fine-tuning. An R2 score of 1.0 represents a perfect fit to the data, so a score of 0.902 is quite strong. This indicates that the model is capturing a significant portion of the variance in the target variable and providing accurate predictions.\n",
        "\n",
        "Robustness: Random Forests are known for their robustness and resistance to overfitting. The ensemble of decision trees combined with bootstrapping and feature randomness helps reduce overfitting, making it a reliable choice for various datasets.\n",
        "\n",
        "Feature Importance: Random Forests provide feature importances, allowing you to understand which features are most influential in making predictions. This information can be valuable for feature selection and business insights.\n",
        "\n",
        "Versatility: Random Forests are versatile and can be applied to both regression and classification problems. They can handle a wide range of data types and feature sets.\n",
        "\n",
        "Fine-Tuning: The fact that you performed hyperparameter tuning on the Random Forest Regressor demonstrates a commitment to optimizing the model's performance. This likely contributed to the high accuracy achieved.\n",
        "\n",
        "Interpretability: While Random Forests are not as interpretable as simpler models like linear regression, they still provide some level of feature importance analysis. This can help in understanding the drivers behind the predictions, which is crucial for making informed business decisions."
      ],
      "metadata": {
        "id": "6ksF5Q1LKTVm"
      }
    },
    {
      "cell_type": "markdown",
      "source": [
        "### 3. Explain the model which you have used and the feature importance using any model explainability tool?"
      ],
      "metadata": {
        "id": "HvGl1hHyA_VK"
      }
    },
    {
      "cell_type": "markdown",
      "source": [
        "1. Train your Random Forest Regressor model using your dataset. In this have already trained the model, and it's stored in a variable called rfr (Random Forest Regressor)\n",
        "2. We have find the accuracy and by the get attribute contains an array of feature importance scores, where each score corresponds to a feature in your dataset and Visualize metric score\n",
        "3. lastly we have perform cross validation and hyperparameter tuning.\n"
      ],
      "metadata": {
        "id": "YnvVTiIxBL-C"
      }
    },
    {
      "cell_type": "markdown",
      "source": [
        "# **Conclusion**"
      ],
      "metadata": {
        "id": "gCX9965dhzqZ"
      }
    },
    {
      "cell_type": "markdown",
      "source": [
        "In conclusion, the introduction of rental bikes in urban cities has transformed transportation and provided a sustainable, convenient, and eco-friendly mobility solution. Ensuring a stable supply of rental bikes is vital for the success of these systems. By combining demand forecasting, optimal placement, inventory management, real-time monitoring, dynamic pricing, user engagement, and technology, cities can create efficient and user-friendly bike-sharing systems.\n",
        "\n",
        "These systems not only reduce waiting times and enhance mobility comfort but also contribute to reducing traffic congestion and environmental impact. The continuous improvement of bike-sharing systems through data-driven strategies and user feedback plays a crucial role in making urban transportation more efficient and sustainable. As cities continue to grow, bike-sharing initiatives remain an important component of the urban mobility landscape, benefiting both residents and the environment."
      ],
      "metadata": {
        "id": "Fjb1IsQkh3yE"
      }
    },
    {
      "cell_type": "markdown",
      "source": [
        "### ***Hurrah! You have successfully completed your Machine Learning Capstone Project !!!***"
      ],
      "metadata": {
        "id": "gIfDvo9L0UH2"
      }
    }
  ]
}